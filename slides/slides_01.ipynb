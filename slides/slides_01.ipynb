{
 "cells": [
  {
   "cell_type": "markdown",
   "metadata": {
    "slideshow": {
     "slide_type": "slide"
    }
   },
   "source": [
    "# Introduction to Machine Learning with PyTorch\n",
    "\n",
    "*by Jonathan Frawley*\n",
    "\n",
    "<img style=\"text-align: center;\" src=\"https://www.oreilly.com/library/view/deep-learning-for/9781788295628/assets/43dc9d10-cf03-456b-be23-ec2726f39463.png\" width=\"200\"/>\n",
    "\n",
    "## Before we begin - Format for the course\n",
    "\n",
    "* This course is due to run for 2 hours so do make sure you’re comfortable and have a drink with you.\n",
    "* There will be a break from 10:40-10:50\n",
    "* You can also contribute to the meeting using the chat panel.\n",
    "* Please set your microphone to mute when you are not talking.\n",
    "* Course link: <https://bit.ly/jf_ml_course>"
   ]
  },
  {
   "cell_type": "markdown",
   "metadata": {
    "slideshow": {
     "slide_type": "slide"
    }
   },
   "source": [
    "# Who am I?\n",
    " - 10 years of software development experience in industry (Python and Scala mostly)\n",
    " - Research Software Engineer in Advanced Research Computing\n",
    " - Part-time PhD in Computer Science in Deep Learning\n",
    " - Colleagues from ARC on hand to help"
   ]
  },
  {
   "cell_type": "markdown",
   "metadata": {
    "slideshow": {
     "slide_type": "slide"
    }
   },
   "source": [
    "# Icebreaker "
   ]
  },
  {
   "cell_type": "markdown",
   "metadata": {
    "slideshow": {
     "slide_type": "slide"
    }
   },
   "source": [
    " - Say briefly why you joined this course today in chat\n",
    " - If you have questions throughout the day, please put it into chat"
   ]
  },
  {
   "cell_type": "markdown",
   "metadata": {
    "slideshow": {
     "slide_type": "slide"
    }
   },
   "source": [
    "# Basic information about today\n",
    " - Mixture of lectures and hands on exercises. \n",
    " - All materials are open source, including slides.\n",
    " - These will remain available after the course finishes, so don't worry if you do not get through all exercises.\n",
    " - If you notice issues, please contact me directly (jonathan.frawley@durham.ac.uk) or raise an issue on the GitHub repository: <https://github.com/jonathanfrawley/machine_learning_course>"
   ]
  },
  {
   "cell_type": "markdown",
   "metadata": {
    "slideshow": {
     "slide_type": "slide"
    }
   },
   "source": [
    "# Outline of Day\n",
    " 1. Introduction to Machine Learning and PyTorch (lecture 10:00-10:30, exercises 10:30-10:40)\n",
    " 2. Break (10:40-10:50)\n",
    " 3. Real-world PyTorch (lecture 10:50-11:40, exercises 11:40-11:55)\n",
    " 4. Wrap up (11:55-12:00)"
   ]
  },
  {
   "cell_type": "markdown",
   "metadata": {
    "slideshow": {
     "slide_type": "slide"
    }
   },
   "source": [
    "# Google Colab\n",
    "<img style=\"text-align: center;\" src=\"https://miro.medium.com/max/1400/1*8N7xbq6ahVvWkEq_S5EhMA.jpeg\" alt=\"Google Colab logo\" width=\"300\"/>\n",
    " \n",
    " - Google Colab is a free system for running Python notebooks in the cloud\n",
    " - It supports a wide variety of Python libraries\n",
    " - We will use Google Colab for all exercises\n",
    " - Links and instructions are included on the main page\n",
    " - If you get the following: **Warning: This notebook was not authored by Google.**, click **Run anyway**\n",
    " - [Test](https://colab.research.google.com/github/jonathanfrawley/machine_learning_course/blob/master/example/colab_test.ipynb)"
   ]
  },
  {
   "cell_type": "markdown",
   "metadata": {
    "slideshow": {
     "slide_type": "slide"
    }
   },
   "source": [
    "# Slides are all runnable as Colab notebooks\n",
    "[Example](https://colab.research.google.com/github/jonathanfrawley/machine_learning_course/blob/master/slides/slides_01.ipynb)"
   ]
  },
  {
   "cell_type": "markdown",
   "metadata": {
    "slideshow": {
     "slide_type": "slide"
    }
   },
   "source": [
    "# Introduction to Machine Learning and PyTorch"
   ]
  },
  {
   "cell_type": "markdown",
   "metadata": {
    "slideshow": {
     "slide_type": "slide"
    }
   },
   "source": [
    "## Traditional AI\n",
    " - Rules-based\n",
    " - Programmer writes rules to represent the world\n",
    " - Simulate how rules behave in different situations"
   ]
  },
  {
   "cell_type": "markdown",
   "metadata": {
    "slideshow": {
     "slide_type": "slide"
    }
   },
   "source": [
    "### Unsupervised Machine Learning\n",
    " - Learn about dataset in an automated way\n",
    " - Clustering\n",
    "\n",
    "### Supervised Machine Learning\n",
    " - Learn how to accomplish a task automatically from data\n",
    " - aka - deep learning\n"
   ]
  },
  {
   "cell_type": "markdown",
   "metadata": {
    "slideshow": {
     "slide_type": "slide"
    }
   },
   "source": [
    "# Unsupervised Machine Learning"
   ]
  },
  {
   "cell_type": "markdown",
   "metadata": {
    "slideshow": {
     "slide_type": "slide"
    }
   },
   "source": [
    "## Clustering\n",
    "\n",
    "<img style=\"text-align: center;\" src=\"https://www.guru99.com/images/1/030819_1030_Unsupervise3.png\" alt=\"Clustering\" width=\"800\"/>"
   ]
  },
  {
   "cell_type": "markdown",
   "metadata": {
    "slideshow": {
     "slide_type": "slide"
    }
   },
   "source": [
    "### K-Means Clustering\n",
    "<img style=\"text-align: center;\" src=\"https://upload.wikimedia.org/wikipedia/commons/e/ea/K-means_convergence.gif\" alt=\"K-Means Clustering\" width=\"600\"/>"
   ]
  },
  {
   "cell_type": "markdown",
   "metadata": {
    "slideshow": {
     "slide_type": "slide"
    }
   },
   "source": [
    "# Supervised Machine Learning"
   ]
  },
  {
   "cell_type": "markdown",
   "metadata": {
    "slideshow": {
     "slide_type": "slide"
    }
   },
   "source": [
    "# Deep Learning\n",
    "<img style=\"text-align: center;\" src=\"https://www.extremetech.com/wp-content/uploads/2015/09/sat-ai-head.jpg\" alt=\"AI\" width=\"300\"/>\n",
    "\n",
    " - Programs learn solution based on data provided\n",
    " - More specifically, programs learn probability distribution of data provided\n",
    " - Fundamental ideas have been around for many decades, but in the last 10 years hardware has made it more feasible"
   ]
  },
  {
   "cell_type": "markdown",
   "metadata": {
    "slideshow": {
     "slide_type": "slide"
    }
   },
   "source": [
    "<img style=\"text-align: center;\" src=\"https://miro.medium.com/max/1400/1*_7OPgojau8hkiPUiHoGK_w.png\" alt=\"AI\" width=\"800\"/>\n"
   ]
  },
  {
   "cell_type": "markdown",
   "metadata": {
    "slideshow": {
     "slide_type": "slide"
    }
   },
   "source": [
    "## Deep Learning Applications"
   ]
  },
  {
   "cell_type": "markdown",
   "metadata": {
    "slideshow": {
     "slide_type": "slide"
    }
   },
   "source": [
    "## Medical Imaging"
   ]
  },
  {
   "cell_type": "markdown",
   "metadata": {
    "slideshow": {
     "slide_type": "fragment"
    }
   },
   "source": [
    "<img style=\"text-align: center;\" src=\"https://miro.medium.com/max/1322/1*QbgD1Mkw6l0NRsGMi32yRA.png\" alt=\"Self-driving car\" width=\"800\"/>\n"
   ]
  },
  {
   "cell_type": "markdown",
   "metadata": {
    "slideshow": {
     "slide_type": "slide"
    }
   },
   "source": [
    "### Self-Driving Cars"
   ]
  },
  {
   "cell_type": "markdown",
   "metadata": {
    "slideshow": {
     "slide_type": "fragment"
    }
   },
   "source": [
    "<img style=\"text-align: center;\" src=\"https://miro.medium.com/proxy/1*q1uVc-MU-tC-WwFp2yXJow.gif\" alt=\"Self-driving car\" width=\"800\"/>\n"
   ]
  },
  {
   "cell_type": "markdown",
   "metadata": {
    "slideshow": {
     "slide_type": "slide"
    }
   },
   "source": [
    "### Transformer (GPT-2) Example:\n",
    "**Betsy was a pig who lived in Devon, she was taken care of by** a local hunter. His wife Sarah lived with her in the same house. When Betsy died, Sarah, her daughter Emily, and her son Paul were left to care for the farm and its pigs. They were all too well versed in the ways of caring for a farm. They taught us all how to care for pigs. Betsy's spirit is alive today in Betsy's Family, and Emily, Chris, and Paul call her Betsy. They frequently speak about Betsy, who they believe is still with them. Betsy passed away in December, 2011. However, Betsy is now with Jesus, and at his right hand. So we sing this song with that and with our thanksgiving of\n"
   ]
  },
  {
   "cell_type": "markdown",
   "metadata": {
    "slideshow": {
     "slide_type": "slide"
    }
   },
   "source": [
    "# Dall-E (https://openai.com/blog/dall-e/)\n",
    "<img style=\"text-align: center;\" src=\"https://raw.githubusercontent.com/jonathanfrawley/machine_learning_course/main/data/dalle.png\" alt=\"Dall-E\" width=\"700\"/>"
   ]
  },
  {
   "cell_type": "markdown",
   "metadata": {
    "slideshow": {
     "slide_type": "slide"
    }
   },
   "source": [
    "## Other applications\n",
    " - Speech recognition\n",
    " - Text-to-speech\n",
    " - Customer support\n",
    " - Navigation\n",
    " - Search results\n",
    " - Product listings\n",
    " - DeepFakes\n",
    " - Face detection"
   ]
  },
  {
   "cell_type": "markdown",
   "metadata": {
    "slideshow": {
     "slide_type": "slide"
    }
   },
   "source": [
    "## Deep Learning Challenges"
   ]
  },
  {
   "cell_type": "markdown",
   "metadata": {
    "slideshow": {
     "slide_type": "fragment"
    }
   },
   "source": [
    " - Difficult to know how / why decision is arrived at\n",
    " - Generally require a large dataset to come to a good solution\n",
    " - Computationally expensive - though new hardware is helping\n",
    " - No consensus yet on universally good models for particular applications\n",
    " - Open datasets are rare, especially in medical imaging"
   ]
  },
  {
   "cell_type": "markdown",
   "metadata": {
    "slideshow": {
     "slide_type": "slide"
    }
   },
   "source": [
    "# Introduction to PyTorch\n",
    "*based on https://pytorch.org/tutorials/beginner/pytorch_with_examples.html*\n"
   ]
  },
  {
   "cell_type": "markdown",
   "metadata": {
    "slideshow": {
     "slide_type": "slide"
    }
   },
   "source": [
    "# PyTorch: Custom nn Modules"
   ]
  },
  {
   "cell_type": "code",
   "execution_count": 14,
   "metadata": {
    "slideshow": {
     "slide_type": "slide"
    }
   },
   "outputs": [],
   "source": [
    "import torch\n",
    "import math\n",
    "import numpy as np\n",
    "import matplotlib.pyplot as plt"
   ]
  },
  {
   "cell_type": "code",
   "execution_count": 15,
   "metadata": {
    "slideshow": {
     "slide_type": "slide"
    }
   },
   "outputs": [],
   "source": [
    "\n",
    "class Polynomial3(torch.nn.Module):\n",
    "    def __init__(self):\n",
    "        \"\"\"\n",
    "        In the constructor we instantiate four parameters and assign them as\n",
    "        member parameters.\n",
    "        \"\"\"\n",
    "        super().__init__()\n",
    "        self.a = torch.nn.Parameter(torch.randn(()))\n",
    "        self.b = torch.nn.Parameter(torch.randn(()))\n",
    "        self.c = torch.nn.Parameter(torch.randn(()))\n",
    "        self.d = torch.nn.Parameter(torch.randn(()))\n",
    "\n",
    "    def forward(self, x):\n",
    "        \"\"\"\n",
    "        In the forward function we accept a Tensor of input data and we must return\n",
    "        a Tensor of output data. We can use Modules defined in the constructor as\n",
    "        well as arbitrary operators on Tensors.\n",
    "        \"\"\"\n",
    "        return self.a + self.b * x + self.c * x ** 2 + self.d * x ** 3\n",
    "\n",
    "    def string(self):\n",
    "        \"\"\"\n",
    "        Just like any class in Python, you can also define custom method on PyTorch modules\n",
    "        \"\"\"\n",
    "        return f'y = {self.a.item()} + {self.b.item()} x + {self.c.item()} x^2 + {self.d.item()} x^3'"
   ]
  },
  {
   "cell_type": "code",
   "execution_count": 16,
   "metadata": {
    "slideshow": {
     "slide_type": "subslide"
    }
   },
   "outputs": [
    {
     "name": "stdout",
     "output_type": "stream",
     "text": [
      "399 581.3184204101562\n",
      "799 129.02755737304688\n",
      "1199 34.4970703125\n",
      "1599 14.40322494506836\n",
      "1999 10.054778099060059\n"
     ]
    }
   ],
   "source": [
    "# Create Tensors to hold input and outputs.\n",
    "x = torch.linspace(-math.pi, math.pi, 2000)\n",
    "y = torch.sin(x)\n",
    "\n",
    "# Construct our model by instantiating the class defined above\n",
    "model = Polynomial3()\n",
    "\n",
    "criterion = torch.nn.MSELoss(reduction='sum')\n",
    "optimizer = torch.optim.SGD(model.parameters(), lr=1e-6)\n",
    "for t in range(2000):\n",
    "    y_pred = model(x)\n",
    "\n",
    "    loss = criterion(y_pred, y)\n",
    "    if t % 400 == 399:\n",
    "        print(t, loss.item())\n",
    "\n",
    "    # Zero gradients, perform a backward pass, and update the weights.\n",
    "    optimizer.zero_grad()\n",
    "    loss.backward()\n",
    "    optimizer.step()"
   ]
  },
  {
   "cell_type": "code",
   "execution_count": 17,
   "metadata": {
    "slideshow": {
     "slide_type": "subslide"
    }
   },
   "outputs": [],
   "source": [
    "def show_result_module():\n",
    "    x_data = np.linspace(-math.pi, math.pi, 2000)\n",
    "    y_data = (model.a.item() + model.b.item()*x_data\n",
    "        + model.c.item()*np.power(x_data,2)\n",
    "        + model.d.item()*np.power(x_data,3))\n",
    "    fig, ax = plt.subplots()\n",
    "    ax.plot(x_data, y_data, label='prediction')\n",
    "    ax.plot(x_data, np.sin(x_data), label='correct')\n",
    "    ax.legend()\n",
    "    plt.show()"
   ]
  },
  {
   "cell_type": "code",
   "execution_count": 18,
   "metadata": {
    "slideshow": {
     "slide_type": "subslide"
    }
   },
   "outputs": [
    {
     "name": "stdout",
     "output_type": "stream",
     "text": [
      "Result: y = 0.0282797459512949 + 0.8344928026199341 x + -0.004878726787865162 x^2 + -0.09016579389572144 x^3\n"
     ]
    },
    {
     "data": {
      "image/png": "[encoded data removed]",
      "text/plain": [
       "<Figure size 432x288 with 1 Axes>"
      ]
     },
     "metadata": {
      "needs_background": "light"
     },
     "output_type": "display_data"
    }
   ],
   "source": [
    "print(f'Result: {model.string()}')\n",
    "show_result_module()"
   ]
  },
  {
   "cell_type": "markdown",
   "metadata": {
    "slideshow": {
     "slide_type": "slide"
    }
   },
   "source": [
    "# References\n",
    " - NumPy and PyTorch examples are from: https://pytorch.org/tutorials/beginner/pytorch_with_examples.html\n",
    " - Random forests: https://towardsdatascience.com/understanding-random-forest-58381e0602d2\n",
    " - Underfitting and overfitting image (accessed on 2019-06-06): https://medium.com/greyatom/what-is-underfitting-and-overfitting-in-machine-learning-and-how-to-deal-with-it-6803a989c76"
   ]
  },
  {
   "cell_type": "markdown",
   "metadata": {
    "slideshow": {
     "slide_type": "slide"
    }
   },
   "source": [
    "# Exercises\n",
    "<https://colab.research.google.com/github/jonathanfrawley/machine_learning_course/blob/main/exercises/exercises_01.ipynb>"
   ]
  }
 ],
 "metadata": {
  "celltoolbar": "Slideshow",
  "kernelspec": {
   "display_name": "Python 3",
   "language": "python",
   "name": "python3"
  },
  "language_info": {
   "codemirror_mode": {
    "name": "ipython",
    "version": 3
   },
   "file_extension": ".py",
   "mimetype": "text/x-python",
   "name": "python",
   "nbconvert_exporter": "python",
   "pygments_lexer": "ipython3",
   "version": "3.9.9"
  }
 },
 "nbformat": 4,
 "nbformat_minor": 2
}
