{
 "cells": [
  {
   "cell_type": "markdown",
   "metadata": {},
   "source": [
    "# Exercises 1 Answers"
   ]
  },
  {
   "cell_type": "markdown",
   "metadata": {
    "colab_type": "text",
    "id": "w3AeF0bTT7j0"
   },
   "source": [
    "## Exercise 1.1"
   ]
  },
  {
   "cell_type": "code",
   "execution_count": 142,
   "metadata": {},
   "outputs": [],
   "source": [
    "# From https://pytorch.org/tutorials/beginner/pytorch_with_examples.html\n",
    "import math\n",
    "import matplotlib\n",
    "import matplotlib.pyplot as plt\n",
    "import numpy as np\n",
    "\n",
    "\n",
    "def fit_exponential(x):\n",
    "    y = np.exp(x)\n",
    "\n",
    "    a = np.random.randn()\n",
    "    b = np.random.randn()\n",
    "    c = np.random.randn()\n",
    "    d = np.random.randn()\n",
    "\n",
    "    learning_rate = 1e-6\n",
    "    for t in range(8000):\n",
    "        y_pred = a + b * x + c * x ** 2 + d * x ** 3\n",
    "        loss = np.square(y_pred - y).sum()\n",
    "        if t % 200 == 199:\n",
    "            print(t, loss)\n",
    "        # Backprop to compute gradients of a, b, c, d with respect to loss\n",
    "        grad_y_pred = 2.0 * (y_pred - y)\n",
    "        grad_a = grad_y_pred.sum()\n",
    "        grad_b = (grad_y_pred * x).sum()\n",
    "        grad_c = (grad_y_pred * x ** 2).sum()\n",
    "        grad_d = (grad_y_pred * x ** 3).sum()\n",
    "        # Update weights\n",
    "        a -= learning_rate * grad_a\n",
    "        b -= learning_rate * grad_b\n",
    "        c -= learning_rate * grad_c\n",
    "        d -= learning_rate * grad_d\n",
    "    return (a, b, c, d)"
   ]
  },
  {
   "cell_type": "code",
   "execution_count": 165,
   "metadata": {},
   "outputs": [
    {
     "name": "stdout",
     "output_type": "stream",
     "text": [
      "199 678.1588351009298\n",
      "399 578.5649875647107\n",
      "599 534.9437836779666\n",
      "799 515.833472422182\n",
      "999 507.45899654658785\n",
      "1199 503.78799924315456\n",
      "1399 502.17822083363654\n",
      "1599 501.4720247371195\n",
      "1799 501.1620786812457\n",
      "1999 501.02597306174255\n",
      "2199 500.9661696192835\n",
      "2399 500.93987472730674\n",
      "2599 500.92830426274537\n",
      "2799 500.9232085126534\n",
      "2999 500.9209620869528\n",
      "3199 500.9199706693363\n",
      "3399 500.91953258119327\n",
      "3599 500.91933872833283\n",
      "3799 500.919252815036\n",
      "3999 500.91921467301336\n",
      "4199 500.9191977067617\n",
      "4399 500.91919014372303\n",
      "4599 500.9191867644018\n",
      "4799 500.9191852505473\n",
      "4999 500.91918457046347\n",
      "5199 500.9191842640074\n",
      "5399 500.91918412545795\n",
      "5599 500.9191840625978\n",
      "5799 500.9191840339707\n",
      "5999 500.91918402088214\n",
      "6199 500.91918401487294\n",
      "6399 500.9191840121018\n",
      "6599 500.9191840108186\n",
      "6799 500.91918401022144\n",
      "6999 500.9191840099424\n",
      "7199 500.9191840098114\n",
      "7399 500.9191840097495\n",
      "7599 500.91918400972025\n",
      "7799 500.9191840097063\n",
      "7999 500.9191840096997\n",
      "Result: y = 0.5000522005217442 + 0.7393320506520884 x + 0.9656339145977635 x^2 + 0.2815114226178263 x^3\n"
     ]
    },
    {
     "data": {
      "image/png": "[encoded data removed]",
      "text/plain": [
       "<Figure size 432x288 with 1 Axes>"
      ]
     },
     "metadata": {
      "needs_background": "light"
     },
     "output_type": "display_data"
    }
   ],
   "source": [
    "# Run this to test your code\n",
    "\n",
    "def show_result():\n",
    "    print(f'Result: y = {a} + {b} x + {c} x^2 + {d} x^3')\n",
    "    x_data = np.linspace(-math.pi, math.pi, 2000)\n",
    "    y_data = a + b*x_data + c*np.power(x_data,2) + d*np.power(x_data,3)\n",
    "    fig, ax = plt.subplots()\n",
    "    ax.plot(x_data, y_data, label='prediction')\n",
    "    ax.plot(x_data, np.exp(x_data), label='correct')\n",
    "    ax.legend()\n",
    "    plt.show()\n",
    "    \n",
    "a, b, c, d = fit_exponential(np.linspace(-math.pi, math.pi, 2000))\n",
    "show_result()\n",
    "np.testing.assert_allclose((a,b,c,d), (0.500051380635291, 0.7393321213180061, 0.9656340560418195, 0.28151141256621487), rtol=1e-1)"
   ]
  },
  {
   "cell_type": "markdown",
   "metadata": {
    "colab_type": "text",
    "id": "LZDGYtIqUNGX"
   },
   "source": [
    "## Exercise 1.2"
   ]
  },
  {
   "cell_type": "code",
   "execution_count": 91,
   "metadata": {},
   "outputs": [],
   "source": [
    "# From https://pytorch.org/tutorials/beginner/pytorch_with_examples.html\n",
    "import torch\n",
    "import math\n",
    "\n",
    "\n",
    "class Polynomial3(torch.nn.Module):\n",
    "    def __init__(self):\n",
    "        \"\"\"\n",
    "        In the constructor we instantiate four parameters and assign them as\n",
    "        member parameters.\n",
    "        \"\"\"\n",
    "        super().__init__()\n",
    "        self.a = torch.nn.Parameter(torch.randn(()))\n",
    "        self.b = torch.nn.Parameter(torch.randn(()))\n",
    "        self.c = torch.nn.Parameter(torch.randn(()))\n",
    "        self.d = torch.nn.Parameter(torch.randn(()))\n",
    "\n",
    "    def forward(self, x):\n",
    "        \"\"\"\n",
    "        In the forward function we accept a Tensor of input data and we must return\n",
    "        a Tensor of output data. We can use Modules defined in the constructor as\n",
    "        well as arbitrary operators on Tensors.\n",
    "        \"\"\"\n",
    "        return self.a + self.b * x + self.c * x ** 2 + self.d * x ** 3\n",
    "\n",
    "    def string(self):\n",
    "        \"\"\"\n",
    "        Just like any class in Python, you can also define custom method on PyTorch modules\n",
    "        \"\"\"\n",
    "        return f'y = {self.a.item()} + {self.b.item()} x + {self.c.item()} x^2 + {self.d.item()} x^3'"
   ]
  },
  {
   "cell_type": "code",
   "execution_count": 169,
   "metadata": {},
   "outputs": [],
   "source": [
    "def polynomial_fit_pytorch(x):\n",
    "    y = torch.exp(x)\n",
    "\n",
    "    model = Polynomial3()\n",
    "\n",
    "    # Construct our loss function and an Optimizer. The call to model.parameters()\n",
    "    # in the SGD constructor will contain the learnable parameters of the nn.Linear\n",
    "    # module which is members of the model.\n",
    "    criterion = torch.nn.MSELoss(reduction='sum')\n",
    "    optimizer = torch.optim.SGD(model.parameters(), lr=1e-6)\n",
    "\n",
    "    for t in range(8000):\n",
    "        # Forward pass: Compute predicted y by passing x to the model\n",
    "        y_pred = model(x)\n",
    "\n",
    "        # Compute and print loss\n",
    "        loss = criterion(y_pred, y)\n",
    "        if t % 400 == 399:\n",
    "            print(t, loss.item())\n",
    "\n",
    "        # Zero gradients, perform a backward pass, and update the weights.\n",
    "        optimizer.zero_grad()\n",
    "        loss.backward()\n",
    "        optimizer.step()\n",
    "    return model"
   ]
  },
  {
   "cell_type": "code",
   "execution_count": 170,
   "metadata": {},
   "outputs": [
    {
     "name": "stdout",
     "output_type": "stream",
     "text": [
      "399 1181.0106201171875\n",
      "799 671.3935546875\n",
      "1199 543.655517578125\n",
      "1599 511.6336975097656\n",
      "1999 503.605712890625\n",
      "2399 501.5928955078125\n",
      "2799 501.0882568359375\n",
      "3199 500.961669921875\n",
      "3599 500.929931640625\n",
      "3999 500.9219665527344\n",
      "4399 500.91998291015625\n",
      "4799 500.9195556640625\n",
      "5199 500.91943359375\n",
      "5599 500.91937255859375\n",
      "5999 500.9193115234375\n",
      "6399 500.91937255859375\n",
      "6799 500.9193115234375\n",
      "7199 500.9193115234375\n",
      "7599 500.9193115234375\n",
      "7999 500.9193115234375\n",
      "Result: y = 0.5000522005217442 + 0.7393320506520884 x + 0.9656339145977635 x^2 + 0.2815114226178263 x^3\n"
     ]
    },
    {
     "data": {
      "image/png": "[encoded data removed]",
      "text/plain": [
       "<Figure size 432x288 with 1 Axes>"
      ]
     },
     "metadata": {
      "needs_background": "light"
     },
     "output_type": "display_data"
    }
   ],
   "source": [
    "# Run this to test your code\n",
    "\n",
    "def show_result():\n",
    "    print(f'Result: y = {a} + {b} x + {c} x^2 + {d} x^3')\n",
    "    x_data = np.linspace(-math.pi, math.pi, 2000)\n",
    "    y_data = model.a.item() + model.b.item()*x_data + model.c.item()*np.power(x_data,2) + model.d.item()*np.power(x_data,3)\n",
    "    fig, ax = plt.subplots()\n",
    "    ax.plot(x_data, y_data, label='prediction')\n",
    "    ax.plot(x_data, np.exp(x_data), label='correct')\n",
    "    ax.legend()\n",
    "    plt.show()\n",
    "    \n",
    "model = polynomial_fit_pytorch(torch.linspace(-math.pi, math.pi, 2000))\n",
    "show_result()\n",
    "np.testing.assert_allclose((model.a.item(),model.b.item(),model.c.item(),model.d.item()), (0.500051380635291, 0.7393321213180061, 0.9656340560418195, 0.28151141256621487), rtol=1e-1)"
   ]
  },
  {
   "cell_type": "markdown",
   "metadata": {
    "colab_type": "text",
    "id": "xuLQATzHUYu8"
   },
   "source": [
    "## Exercise 1.3"
   ]
  },
  {
   "cell_type": "code",
   "execution_count": 167,
   "metadata": {},
   "outputs": [],
   "source": [
    "def polynomial_fit_pytorch_rmsprop(x):\n",
    "    y = torch.exp(x)\n",
    "\n",
    "    model = Polynomial3()\n",
    "\n",
    "    # Construct our loss function and an Optimizer. The call to model.parameters()\n",
    "    # in the SGD constructor will contain the learnable parameters of the nn.Linear\n",
    "    # module which is members of the model.\n",
    "    criterion = torch.nn.MSELoss(reduction='sum')\n",
    "    optimizer = torch.optim.RMSprop(model.parameters(), lr=1e-2)\n",
    "\n",
    "\n",
    "    for t in range(8000):\n",
    "        # Forward pass: Compute predicted y by passing x to the model\n",
    "        y_pred = model(x)\n",
    "\n",
    "        # Compute and print loss\n",
    "        loss = criterion(y_pred, y)\n",
    "        if t % 400 == 399:\n",
    "            print(t, loss.item())\n",
    "\n",
    "        # Zero gradients, perform a backward pass, and update the weights.\n",
    "        optimizer.zero_grad()\n",
    "        loss.backward()\n",
    "        optimizer.step()\n",
    "    return model"
   ]
  },
  {
   "cell_type": "code",
   "execution_count": 168,
   "metadata": {},
   "outputs": [
    {
     "name": "stdout",
     "output_type": "stream",
     "text": [
      "399 1651.6136474609375\n",
      "799 510.60003662109375\n",
      "1199 501.8135681152344\n",
      "1599 514.8855590820312\n",
      "1999 511.7413330078125\n",
      "2399 511.3420715332031\n",
      "2799 511.287353515625\n",
      "3199 511.2799987792969\n",
      "3599 511.2793884277344\n",
      "3999 511.2793884277344\n",
      "4399 511.279296875\n",
      "4799 511.27899169921875\n",
      "5199 511.2784423828125\n",
      "5599 511.27880859375\n",
      "5999 511.2784118652344\n",
      "6399 511.2786560058594\n",
      "6799 511.2788391113281\n",
      "7199 511.27850341796875\n",
      "7599 511.27899169921875\n",
      "7999 511.2790222167969\n",
      "Result: y = 0.5000522005217442 + 0.7393320506520884 x + 0.9656339145977635 x^2 + 0.2815114226178263 x^3\n"
     ]
    },
    {
     "data": {
      "image/png": "[encoded data removed]",
      "text/plain": [
       "<Figure size 432x288 with 1 Axes>"
      ]
     },
     "metadata": {
      "needs_background": "light"
     },
     "output_type": "display_data"
    }
   ],
   "source": [
    "# Run this to test your code\n",
    "\n",
    "def show_result():\n",
    "    print(f'Result: y = {a} + {b} x + {c} x^2 + {d} x^3')\n",
    "    x_data = np.linspace(-math.pi, math.pi, 2000)\n",
    "    y_data = model.a.item() + model.b.item()*x_data + model.c.item()*np.power(x_data,2) + model.d.item()*np.power(x_data,3)\n",
    "    fig, ax = plt.subplots()\n",
    "    ax.plot(x_data, y_data, label='prediction')\n",
    "    ax.plot(x_data, np.exp(x_data), label='correct')\n",
    "    ax.legend()\n",
    "    plt.show()\n",
    "    \n",
    "model = polynomial_fit_pytorch_rmsprop(torch.linspace(-math.pi, math.pi, 2000))\n",
    "show_result()\n",
    "np.testing.assert_allclose((model.a.item(),model.b.item(),model.c.item(),model.d.item()), (0.500051380635291, 0.7393321213180061, 0.9656340560418195, 0.28151141256621487), rtol=1e-1)"
   ]
  }
 ],
 "metadata": {
  "accelerator": "GPU",
  "celltoolbar": "Slideshow",
  "colab": {
   "name": "exercises_01_answers.ipynb",
   "provenance": []
  },
  "kernelspec": {
   "display_name": "Python 3",
   "language": "python",
   "name": "python3"
  },
  "language_info": {
   "codemirror_mode": {
    "name": "ipython",
    "version": 3
   },
   "file_extension": ".py",
   "mimetype": "text/x-python",
   "name": "python",
   "nbconvert_exporter": "python",
   "pygments_lexer": "ipython3",
   "version": "3.9.2"
  }
 },
 "nbformat": 4,
 "nbformat_minor": 1
}
