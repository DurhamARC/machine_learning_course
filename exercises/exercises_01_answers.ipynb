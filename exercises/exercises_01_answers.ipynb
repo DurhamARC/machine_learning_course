{
 "cells": [
  {
   "cell_type": "markdown",
   "metadata": {},
   "source": [
    "# Exercises 1 Answers"
   ]
  },
  {
   "cell_type": "markdown",
   "metadata": {
    "colab_type": "text",
    "id": "LZDGYtIqUNGX"
   },
   "source": [
    "## Exercise 1.1"
   ]
  },
  {
   "cell_type": "code",
   "execution_count": 8,
   "metadata": {},
   "outputs": [],
   "source": [
    "# From https://pytorch.org/tutorials/beginner/pytorch_with_examples.html\n",
    "import math\n",
    "\n",
    "import torch\n",
    "import numpy as np\n",
    "import matplotlib.pyplot as plt\n",
    "\n",
    "\n",
    "class Polynomial3(torch.nn.Module):\n",
    "    def __init__(self):\n",
    "        \"\"\"\n",
    "        In the constructor we instantiate four parameters and assign them as\n",
    "        member parameters.\n",
    "        \"\"\"\n",
    "        super().__init__()\n",
    "        self.a = torch.nn.Parameter(torch.randn(()))\n",
    "        self.b = torch.nn.Parameter(torch.randn(()))\n",
    "        self.c = torch.nn.Parameter(torch.randn(()))\n",
    "        self.d = torch.nn.Parameter(torch.randn(()))\n",
    "\n",
    "    def forward(self, x):\n",
    "        \"\"\"\n",
    "        In the forward function we accept a Tensor of input data and we must return\n",
    "        a Tensor of output data. We can use Modules defined in the constructor as\n",
    "        well as arbitrary operators on Tensors.\n",
    "        \"\"\"\n",
    "        return self.a + self.b * x + self.c * x ** 2 + self.d * x ** 3\n",
    "\n",
    "    def string(self):\n",
    "        \"\"\"\n",
    "        Just like any class in Python, you can also define custom method on PyTorch modules\n",
    "        \"\"\"\n",
    "        return f'y = {self.a.item()} + {self.b.item()} x + {self.c.item()} x^2 + {self.d.item()} x^3'"
   ]
  },
  {
   "cell_type": "code",
   "execution_count": 9,
   "metadata": {},
   "outputs": [],
   "source": [
    "def polynomial_fit_pytorch(x):\n",
    "    y = torch.exp(x)\n",
    "\n",
    "    model = Polynomial3()\n",
    "\n",
    "    # Construct our loss function and an Optimizer. The call to model.parameters()\n",
    "    # in the SGD constructor will contain the learnable parameters of the nn.Linear\n",
    "    # module which is members of the model.\n",
    "    criterion = torch.nn.MSELoss(reduction='sum')\n",
    "    optimizer = torch.optim.SGD(model.parameters(), lr=1e-6)\n",
    "\n",
    "    for t in range(8000):\n",
    "        # Forward pass: Compute predicted y by passing x to the model\n",
    "        y_pred = model(x)\n",
    "\n",
    "        # Compute and print loss\n",
    "        loss = criterion(y_pred, y)\n",
    "        if t % 400 == 399:\n",
    "            print(t, loss.item())\n",
    "\n",
    "        # Zero gradients, perform a backward pass, and update the weights.\n",
    "        optimizer.zero_grad()\n",
    "        loss.backward()\n",
    "        optimizer.step()\n",
    "    return model"
   ]
  },
  {
   "cell_type": "code",
   "execution_count": 10,
   "metadata": {},
   "outputs": [
    {
     "name": "stdout",
     "output_type": "stream",
     "text": [
      "399 1704.4620361328125\n",
      "799 739.9332885742188\n",
      "1199 548.8504638671875\n",
      "1599 510.6435241699219\n",
      "1999 502.9189758300781\n",
      "2399 501.3368835449219\n",
      "2799 501.0079650878906\n",
      "3199 500.93853759765625\n",
      "3599 500.923583984375\n",
      "3999 500.9202575683594\n",
      "4399 500.9195556640625\n",
      "4799 500.9193420410156\n",
      "5199 500.9193115234375\n",
      "5599 500.91925048828125\n",
      "5999 500.91925048828125\n",
      "6399 500.9193420410156\n",
      "6799 500.9193420410156\n",
      "7199 500.9193420410156\n",
      "7599 500.9193420410156\n",
      "7999 500.9193420410156\n",
      "Result: y = 0.50007164478302 + 0.7393174767494202 x + 0.965630292892456 x^2 + 0.281513512134552 x^3\n"
     ]
    },
    {
     "data": {
      "image/png": "[encoded data removed]",
      "text/plain": [
       "<Figure size 432x288 with 1 Axes>"
      ]
     },
     "metadata": {
      "needs_background": "light"
     },
     "output_type": "display_data"
    }
   ],
   "source": [
    "# Run this to test your code\n",
    "\n",
    "def show_result():\n",
    "    print(f'Result: y = {model.a.item()} + {model.b.item()} x + {model.c.item()} x^2 + {model.d.item()} x^3')\n",
    "    x_data = np.linspace(-math.pi, math.pi, 2000)\n",
    "    y_data = model.a.item() + model.b.item()*x_data + model.c.item()*np.power(x_data,2) + model.d.item()*np.power(x_data,3)\n",
    "    fig, ax = plt.subplots()\n",
    "    ax.plot(x_data, y_data, label='prediction')\n",
    "    ax.plot(x_data, np.exp(x_data), label='correct')\n",
    "    ax.legend()\n",
    "    plt.show()\n",
    "    \n",
    "model = polynomial_fit_pytorch(torch.linspace(-math.pi, math.pi, 2000))\n",
    "show_result()\n",
    "np.testing.assert_allclose((model.a.item(),model.b.item(),model.c.item(),model.d.item()), (0.500051380635291, 0.7393321213180061, 0.9656340560418195, 0.28151141256621487), rtol=1e-1)"
   ]
  },
  {
   "cell_type": "code",
   "execution_count": null,
   "metadata": {},
   "outputs": [],
   "source": []
  }
 ],
 "metadata": {
  "accelerator": "GPU",
  "celltoolbar": "Slideshow",
  "colab": {
   "name": "exercises_01_answers.ipynb",
   "provenance": []
  },
  "kernelspec": {
   "display_name": "Python 3",
   "language": "python",
   "name": "python3"
  },
  "language_info": {
   "codemirror_mode": {
    "name": "ipython",
    "version": 3
   },
   "file_extension": ".py",
   "mimetype": "text/x-python",
   "name": "python",
   "nbconvert_exporter": "python",
   "pygments_lexer": "ipython3",
   "version": "3.9.7"
  }
 },
 "nbformat": 4,
 "nbformat_minor": 1
}
